{
 "cells": [
  {
   "cell_type": "code",
   "execution_count": null,
   "metadata": {},
   "outputs": [],
   "source": [
    "import pandas as pd\n",
    "from sklearn.model_selection import train_test_split\n",
    "from sklearn.metrics import mean_absolute_error"
   ]
  },
  {
   "cell_type": "markdown",
   "metadata": {},
   "source": [
    "## Exercise\n",
    "\n",
    "1. Create an additional evaluation function that evaluates the __root mean squared error (RMSE)__ instead of the mean absolute error (MAE). Hint: Look again in the scikit-learn documentation for help.\n",
    "\n",
    "2. Compare the resulting RMSE with the MAE. How do you interpret the differences?"
   ]
  },
  {
   "cell_type": "code",
   "execution_count": null,
   "metadata": {},
   "outputs": [],
   "source": [
    "melbourne_file_path = 'https://raw.githubusercontent.com/vhaus63/ids_data/refs/heads/main/melb_data.csv'\n",
    "melbourne_data = pd.read_csv(melbourne_file_path)\n",
    "melbourne_data.dropna(axis=0, inplace=True)\n",
    "\n",
    "melbourne_features = ['Rooms', 'Bathroom', 'Landsize', 'BuildingArea',\n",
    "                        'YearBuilt', 'Lattitude', 'Longtitude']\n",
    "\n",
    "X = melbourne_data[melbourne_features]\n",
    "y = melbourne_data['Price']"
   ]
  },
  {
   "cell_type": "code",
   "execution_count": null,
   "metadata": {},
   "outputs": [],
   "source": [
    "from sklearn.tree import DecisionTreeRegressor\n",
    "\n",
    "# Define\n",
    "melbourne_model = DecisionTreeRegressor(random_state=1)\n",
    "\n",
    "# Fit\n",
    "melbourne_model.fit(X, y)\n",
    "\n",
    "predicted_home_prices = melbourne_model.predict(X)"
   ]
  },
  {
   "cell_type": "code",
   "execution_count": null,
   "metadata": {},
   "outputs": [],
   "source": [
    "from sklearn.metrics import mean_absolute_error\n",
    "mae = mean_absolute_error(y, predicted_home_prices)\n",
    "\n",
    "print(\"The MAE of our model is: {}\".format(mae))"
   ]
  },
  {
   "cell_type": "code",
   "execution_count": null,
   "metadata": {},
   "outputs": [],
   "source": [
    "from sklearn.metrics import root_mean_squared_error \n",
    "\n",
    "rmse = root_mean_squared_error(y, predicted_home_prices)\n",
    "\n",
    "print(\"The RMSE of our model is: {}\".format(rmse))"
   ]
  },
  {
   "cell_type": "markdown",
   "metadata": {},
   "source": [
    "The RMSE is much larger. This is due to the fact that the RMSE takes into account outliers much stronger than the MAE."
   ]
  },
  {
   "cell_type": "markdown",
   "metadata": {},
   "source": [
    "## Exercise 1\n",
    "\n",
    "1. Repeat the previous model training using a linear regression instead of the decision tree. Hint: Check out the [scikit-learn documentation](https://scikit-learn.org/1.5/modules/generated/sklearn.linear_model.LinearRegression.html), where the  regression model is decribed and code examples are given.\n",
    "\n",
    "2. Create an additional evaluation function that evaluates the root mean squared error (rmse) instead of the mean absolute error. Hint: Look again in the scikit-learn documentation for help.\n",
    "\n",
    "3. Compare the resulting rmse with the mae. How do you interpret the differences?"
   ]
  },
  {
   "cell_type": "code",
   "execution_count": null,
   "metadata": {},
   "outputs": [],
   "source": [
    "from sklearn.linear_model import LinearRegression\n",
    "from sklearn.metrics import root_mean_squared_error\n",
    "\n",
    "# Split the data\n",
    "train_X, val_X, train_y, val_y = train_test_split(X, y, random_state = 0)\n",
    "\n",
    "\n",
    "# Build the model...\n",
    "melbourne_linreg_model = LinearRegression()\n",
    "melbourne_linreg_model.fit(train_X, train_y)\n",
    "\n",
    "# Evaluate the performance\n",
    "val_predictions = melbourne_linreg_model.predict(val_X)\n",
    "val_rmse = root_mean_squared_error(val_y, val_predictions)\n",
    "val_mae = mean_absolute_error(val_y, val_predictions)\n",
    "\n",
    "print(\"The RMSE of our model is: {}\".format(val_rmse))\n",
    "print(\"The MAE of our model is: {}\".format(val_mae))"
   ]
  },
  {
   "cell_type": "markdown",
   "metadata": {},
   "source": [
    "MAE treats all errors equally, giving a linear penalty to each difference.\n",
    "RMSE penalizes larger errors more heavily because it squares the errors. This means RMSE is more sensitive to outliers or large prediction errors.\n",
    "\n",
    "Looking at the MAE, we can also observe that the linear regression performs worse than the decision tree. Thus, the housing data likely contains some non-linearities that the regression model cannot handle."
   ]
  }
 ],
 "metadata": {
  "kernelspec": {
   "display_name": "env",
   "language": "python",
   "name": "python3"
  },
  "language_info": {
   "codemirror_mode": {
    "name": "ipython",
    "version": 3
   },
   "file_extension": ".py",
   "mimetype": "text/x-python",
   "name": "python",
   "nbconvert_exporter": "python",
   "pygments_lexer": "ipython3",
   "version": "3.11.0"
  }
 },
 "nbformat": 4,
 "nbformat_minor": 2
}
